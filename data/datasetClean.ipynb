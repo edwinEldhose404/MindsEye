{
 "cells": [
  {
   "cell_type": "code",
   "execution_count": null,
   "id": "6fb4c7d5",
   "metadata": {},
   "outputs": [
    {
     "name": "stdout",
     "output_type": "stream",
     "text": [
      "Scanning: train\n"
     ]
    },
    {
     "name": "stderr",
     "output_type": "stream",
     "text": [
      "Checking angry: 100%|██████████| 4801/4801 [00:01<00:00, 3019.53it/s]\n",
      "Checking disgust: 100%|██████████| 465/465 [00:00<00:00, 3253.06it/s]\n",
      "Checking fear: 100%|██████████| 4837/4837 [00:01<00:00, 3181.76it/s]\n",
      "Checking happy: 100%|██████████| 8636/8636 [00:03<00:00, 2807.39it/s]\n",
      "Checking neutral: 100%|██████████| 6132/6132 [00:02<00:00, 2495.03it/s]\n",
      "Checking sad: 100%|██████████| 5960/5960 [00:02<00:00, 2318.83it/s]\n",
      "Checking surprise: 100%|██████████| 3237/3237 [00:01<00:00, 2110.12it/s]\n"
     ]
    },
    {
     "name": "stdout",
     "output_type": "stream",
     "text": [
      "Scanning: test\n"
     ]
    },
    {
     "name": "stderr",
     "output_type": "stream",
     "text": [
      "Checking angry: 100%|██████████| 301/301 [00:00<00:00, 2064.94it/s]\n",
      "Checking disgust: 100%|██████████| 31/31 [00:00<00:00, 2032.16it/s]\n",
      "Checking fear: 100%|██████████| 322/322 [00:00<00:00, 2094.16it/s]\n",
      "Checking happy: 100%|██████████| 778/778 [00:00<00:00, 2080.13it/s]\n",
      "Checking neutral: 100%|██████████| 376/376 [00:00<00:00, 2059.10it/s]\n",
      "Checking sad: 100%|██████████| 372/372 [00:00<00:00, 2097.88it/s]\n",
      "Checking surprise: 100%|██████████| 208/208 [00:00<00:00, 2114.43it/s]"
     ]
    },
    {
     "name": "stdout",
     "output_type": "stream",
     "text": [
      "\n",
      "✅ Finished. Removed 0 duplicate images.\n"
     ]
    },
    {
     "name": "stderr",
     "output_type": "stream",
     "text": [
      "\n"
     ]
    }
   ],
   "source": [
    "import os\n",
    "import imagehash\n",
    "from PIL import Image\n",
    "from tqdm import tqdm\n",
    "\n",
    "def remove_duplicates(root_dirs):\n",
    "    seen_hashes = {}\n",
    "    removed = 0\n",
    "\n",
    "    for root_dir in root_dirs:\n",
    "        print(f\"Scanning: {root_dir}\")\n",
    "        for emotion in os.listdir(root_dir):\n",
    "            emotion_dir = os.path.join(root_dir, emotion)\n",
    "            if not os.path.isdir(emotion_dir):\n",
    "                continue\n",
    "\n",
    "            for filename in tqdm(os.listdir(emotion_dir), desc=f\"Checking {emotion}\"):\n",
    "                file_path = os.path.join(emotion_dir, filename)\n",
    "\n",
    "                if not filename.lower().endswith(('.png', '.jpg', '.jpeg', '.bmp')):\n",
    "                    continue\n",
    "\n",
    "                try:\n",
    "                    img = Image.open(file_path).convert(\"L\")  # grayscale\n",
    "                    hash = imagehash.average_hash(img)\n",
    "\n",
    "                    if hash in seen_hashes:\n",
    "                        os.remove(file_path)\n",
    "                        removed += 1\n",
    "                    else:\n",
    "                        seen_hashes[hash] = file_path\n",
    "\n",
    "                except Exception as e:\n",
    "                    print(f\"Error processing {file_path}: {e}\")\n",
    "\n",
    "    print(f\"\\n✅ Finished. Removed {removed} duplicate images.\")\n",
    "\n",
    "remove_duplicates([\"train\", \"test\"])\n"
   ]
  },
  {
   "cell_type": "code",
   "execution_count": null,
   "id": "e79aa728",
   "metadata": {},
   "outputs": [],
   "source": []
  }
 ],
 "metadata": {
  "kernelspec": {
   "display_name": "myenv",
   "language": "python",
   "name": "python3"
  },
  "language_info": {
   "codemirror_mode": {
    "name": "ipython",
    "version": 3
   },
   "file_extension": ".py",
   "mimetype": "text/x-python",
   "name": "python",
   "nbconvert_exporter": "python",
   "pygments_lexer": "ipython3",
   "version": "3.13.5"
  }
 },
 "nbformat": 4,
 "nbformat_minor": 5
}
